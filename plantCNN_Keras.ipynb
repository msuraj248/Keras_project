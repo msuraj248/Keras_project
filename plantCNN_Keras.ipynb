{
  "nbformat": 4,
  "nbformat_minor": 0,
  "metadata": {
    "colab": {
      "name": "Untitled0.ipynb",
      "provenance": [],
      "mount_file_id": "1GOixmqKd_4kP0P200Kk6GaT96wytdNHw",
      "authorship_tag": "ABX9TyMm1B1VVAKsi3YugIkpJWqm",
      "include_colab_link": true
    },
    "kernelspec": {
      "name": "python3",
      "display_name": "Python 3"
    }
  },
  "cells": [
    {
      "cell_type": "markdown",
      "metadata": {
        "id": "view-in-github",
        "colab_type": "text"
      },
      "source": [
        "<a href=\"https://colab.research.google.com/github/msuraj248/Keras_project/blob/master/plantCNN_Keras.ipynb\" target=\"_parent\"><img src=\"https://colab.research.google.com/assets/colab-badge.svg\" alt=\"Open In Colab\"/></a>"
      ]
    },
    {
      "cell_type": "code",
      "metadata": {
        "id": "pcuOB5nqiQZn"
      },
      "source": [
        "import os\n",
        "from os import listdir"
      ],
      "execution_count": 2,
      "outputs": []
    },
    {
      "cell_type": "code",
      "metadata": {
        "id": "dFpe5VqBBLXA",
        "outputId": "82f15c6a-7b05-4ac5-8542-c3f4361861c9",
        "colab": {
          "base_uri": "https://localhost:8080/",
          "height": 272
        }
      },
      "source": [
        "directory_root = 'drive/My Drive/plant'\n",
        "root_dir = listdir(directory_root)\n",
        "root_dir"
      ],
      "execution_count": 3,
      "outputs": [
        {
          "output_type": "execute_result",
          "data": {
            "text/plain": [
              "['tomato_healthy',\n",
              " 'tomato_early_blight',\n",
              " 'tomato_two_spotted_spider_mite',\n",
              " 'Tomato_Septoria_leaf_spot',\n",
              " 'tomato_bacterial_spot',\n",
              " 'tomato_mosaic_virus',\n",
              " 'tomato_yellowleaf_curl_virus',\n",
              " 'tomato_target_spot',\n",
              " 'tomato_leaf_mold',\n",
              " 'totato_late_blight',\n",
              " 'potato_early_blight',\n",
              " 'potato_healthy',\n",
              " 'potato_late_blight',\n",
              " 'paper_bell_bactarial_spot',\n",
              " 'paper_bell_healthy']"
            ]
          },
          "metadata": {
            "tags": []
          },
          "execution_count": 3
        }
      ]
    },
    {
      "cell_type": "code",
      "metadata": {
        "id": "evIVyD64Fqgw"
      },
      "source": [
        "import tensorflow as tf\n",
        "from keras.preprocessing.image import ImageDataGenerator"
      ],
      "execution_count": 4,
      "outputs": []
    },
    {
      "cell_type": "code",
      "metadata": {
        "id": "8vt_YvpPClj2",
        "outputId": "464d2454-8ad2-48aa-e656-6d4bc8a11301",
        "colab": {
          "base_uri": "https://localhost:8080/",
          "height": 34
        }
      },
      "source": [
        "train_batches = ImageDataGenerator(preprocessing_function= tf.keras.applications.vgg16.preprocess_input)\\\n",
        "                  .flow_from_directory(directory= directory_root, target_size = (224,224), classes = root_dir, batch_size=10)"
      ],
      "execution_count": 5,
      "outputs": [
        {
          "output_type": "stream",
          "text": [
            "Found 300 images belonging to 15 classes.\n"
          ],
          "name": "stdout"
        }
      ]
    },
    {
      "cell_type": "code",
      "metadata": {
        "id": "1MZXosRPil86"
      },
      "source": [
        "imgs, lables = next(train_batches)"
      ],
      "execution_count": 6,
      "outputs": []
    },
    {
      "cell_type": "code",
      "metadata": {
        "id": "f8hXb3H-lBSt"
      },
      "source": [
        "def plot_image(images):\n",
        "  fig, axes = plt.subplots(1,10, figsize= (20,20))\n",
        "  axes = axes.flatten()\n",
        "  for img, ax in zip(images, axes):\n",
        "    ax.imshow(img)\n",
        "    ax.axis('off')\n",
        "  plt.tight_layout()\n",
        "  plt.show()"
      ],
      "execution_count": 8,
      "outputs": []
    },
    {
      "cell_type": "code",
      "metadata": {
        "id": "gPRQm5y-lT3d"
      },
      "source": [
        "from keras.models import Sequential\n",
        "from keras.layers import Dense, Activation, Flatten,Dropout, Dense\n",
        "from keras.optimizers import Adam\n",
        "from keras.layers.convolutional import *\n",
        "from keras.layers.pooling import *\n",
        "from keras.metrics import categorical_crossentropy\n",
        "from keras import backend as K"
      ],
      "execution_count": 12,
      "outputs": []
    },
    {
      "cell_type": "code",
      "metadata": {
        "id": "IboH_SmnmMb-"
      },
      "source": [
        "model = Sequential([\n",
        "          Conv2D(filters = 32, kernel_size=(3,3), activation='relu',input_shape =(224,224,3), padding = 'SAME'),\n",
        "          MaxPool2D(pool_size=(2,2), strides=2),\n",
        "          Conv2D(filters = 64, kernel_size=(3,3),activation='relu', padding='SAME'),\n",
        "          MaxPool2D(pool_size=(2,2), strides=2),\n",
        "          Flatten(),\n",
        "          Dense(units = 2, activation='softmax')\n",
        "])"
      ],
      "execution_count": 10,
      "outputs": []
    },
    {
      "cell_type": "code",
      "metadata": {
        "id": "G3T07FdXm0JT"
      },
      "source": [
        "model = Sequential()\n",
        "inputShape = (224,224,3)\n",
        "model.add(Conv2D(32, (3, 3), padding=\"same\",input_shape=inputShape))\n",
        "model.add(Activation(\"relu\"))\n",
        "model.add(MaxPooling2D(pool_size=(3, 3)))\n",
        "model.add(Dropout(0.25))\n",
        "model.add(Conv2D(64, (3, 3), padding=\"same\"))\n",
        "model.add(Activation(\"relu\"))\n",
        "model.add(Conv2D(64, (3, 3), padding=\"same\"))\n",
        "model.add(Activation(\"relu\"))\n",
        "model.add(MaxPooling2D(pool_size=(2, 2)))\n",
        "model.add(Dropout(0.25))\n",
        "model.add(Conv2D(128, (3, 3), padding=\"same\"))\n",
        "model.add(Activation(\"relu\"))\n",
        "model.add(Conv2D(128, (3, 3), padding=\"same\"))\n",
        "model.add(Activation(\"relu\"))\n",
        "model.add(MaxPooling2D(pool_size=(2, 2)))\n",
        "model.add(Dropout(0.25))\n",
        "model.add(Flatten())\n",
        "model.add(Dense(1024))\n",
        "model.add(Activation(\"relu\"))\n",
        "model.add(Dropout(0.5))\n",
        "model.add(Dense(units = 15))\n",
        "model.add(Activation(\"softmax\"))"
      ],
      "execution_count": 17,
      "outputs": []
    },
    {
      "cell_type": "code",
      "metadata": {
        "id": "esDt5HymoG2D",
        "outputId": "2e84d0d2-3135-412d-a4f9-15d55e8d3115",
        "colab": {
          "base_uri": "https://localhost:8080/",
          "height": 901
        }
      },
      "source": [
        "model.summary()"
      ],
      "execution_count": 18,
      "outputs": [
        {
          "output_type": "stream",
          "text": [
            "Model: \"sequential_5\"\n",
            "_________________________________________________________________\n",
            "Layer (type)                 Output Shape              Param #   \n",
            "=================================================================\n",
            "conv2d_22 (Conv2D)           (None, 224, 224, 32)      896       \n",
            "_________________________________________________________________\n",
            "activation_24 (Activation)   (None, 224, 224, 32)      0         \n",
            "_________________________________________________________________\n",
            "max_pooling2d_14 (MaxPooling (None, 74, 74, 32)        0         \n",
            "_________________________________________________________________\n",
            "dropout_16 (Dropout)         (None, 74, 74, 32)        0         \n",
            "_________________________________________________________________\n",
            "conv2d_23 (Conv2D)           (None, 74, 74, 64)        18496     \n",
            "_________________________________________________________________\n",
            "activation_25 (Activation)   (None, 74, 74, 64)        0         \n",
            "_________________________________________________________________\n",
            "conv2d_24 (Conv2D)           (None, 74, 74, 64)        36928     \n",
            "_________________________________________________________________\n",
            "activation_26 (Activation)   (None, 74, 74, 64)        0         \n",
            "_________________________________________________________________\n",
            "max_pooling2d_15 (MaxPooling (None, 37, 37, 64)        0         \n",
            "_________________________________________________________________\n",
            "dropout_17 (Dropout)         (None, 37, 37, 64)        0         \n",
            "_________________________________________________________________\n",
            "conv2d_25 (Conv2D)           (None, 37, 37, 128)       73856     \n",
            "_________________________________________________________________\n",
            "activation_27 (Activation)   (None, 37, 37, 128)       0         \n",
            "_________________________________________________________________\n",
            "conv2d_26 (Conv2D)           (None, 37, 37, 128)       147584    \n",
            "_________________________________________________________________\n",
            "activation_28 (Activation)   (None, 37, 37, 128)       0         \n",
            "_________________________________________________________________\n",
            "max_pooling2d_16 (MaxPooling (None, 18, 18, 128)       0         \n",
            "_________________________________________________________________\n",
            "dropout_18 (Dropout)         (None, 18, 18, 128)       0         \n",
            "_________________________________________________________________\n",
            "flatten_5 (Flatten)          (None, 41472)             0         \n",
            "_________________________________________________________________\n",
            "dense_5 (Dense)              (None, 1024)              42468352  \n",
            "_________________________________________________________________\n",
            "activation_29 (Activation)   (None, 1024)              0         \n",
            "_________________________________________________________________\n",
            "dropout_19 (Dropout)         (None, 1024)              0         \n",
            "_________________________________________________________________\n",
            "dense_6 (Dense)              (None, 15)                15375     \n",
            "_________________________________________________________________\n",
            "activation_30 (Activation)   (None, 15)                0         \n",
            "=================================================================\n",
            "Total params: 42,761,487\n",
            "Trainable params: 42,761,487\n",
            "Non-trainable params: 0\n",
            "_________________________________________________________________\n"
          ],
          "name": "stdout"
        }
      ]
    },
    {
      "cell_type": "code",
      "metadata": {
        "id": "_OUFi2Owsp2N"
      },
      "source": [
        "from sklearn.model_selection import train_test_split\n",
        "X_train,X_test,y_train,y_test = train_test_split(imgs,lables,test_size = 0.3, random_state = 1)"
      ],
      "execution_count": 24,
      "outputs": []
    },
    {
      "cell_type": "code",
      "metadata": {
        "id": "9eUbfzeYoRG_",
        "outputId": "06196d7d-94d7-4ba3-e47c-640d10bd8153",
        "colab": {
          "base_uri": "https://localhost:8080/",
          "height": 374
        }
      },
      "source": [
        "model.compile(optimizer=Adam(learning_rate=0.0001),loss = 'categorical_crossentropy', metrics=['accuracy'])\n",
        "model.fit(x = train_batches, epochs=10, validation_batch_size= 0.2 , verbose=2)"
      ],
      "execution_count": 20,
      "outputs": [
        {
          "output_type": "stream",
          "text": [
            "Epoch 1/10\n",
            "30/30 - 138s - loss: 30.7115 - accuracy: 0.0600\n",
            "Epoch 2/10\n",
            "30/30 - 41s - loss: 3.4008 - accuracy: 0.1567\n",
            "Epoch 3/10\n",
            "30/30 - 41s - loss: 2.4989 - accuracy: 0.1567\n",
            "Epoch 4/10\n",
            "30/30 - 41s - loss: 2.2196 - accuracy: 0.2800\n",
            "Epoch 5/10\n",
            "30/30 - 41s - loss: 2.0411 - accuracy: 0.3167\n",
            "Epoch 6/10\n",
            "30/30 - 41s - loss: 1.7844 - accuracy: 0.4267\n",
            "Epoch 7/10\n",
            "30/30 - 41s - loss: 1.4814 - accuracy: 0.5400\n",
            "Epoch 8/10\n",
            "30/30 - 41s - loss: 1.2442 - accuracy: 0.5833\n",
            "Epoch 9/10\n",
            "30/30 - 41s - loss: 1.1726 - accuracy: 0.6167\n",
            "Epoch 10/10\n",
            "30/30 - 41s - loss: 0.9796 - accuracy: 0.6933\n"
          ],
          "name": "stdout"
        },
        {
          "output_type": "execute_result",
          "data": {
            "text/plain": [
              "<tensorflow.python.keras.callbacks.History at 0x7fd03d684860>"
            ]
          },
          "metadata": {
            "tags": []
          },
          "execution_count": 20
        }
      ]
    },
    {
      "cell_type": "code",
      "metadata": {
        "id": "T-yZGV2nrDz4"
      },
      "source": [
        "from sklearn.model_selection import train_test_split\n",
        "X_train,X_test,y_train,y_test = train_test_split(imgs,lables,test_size = 0.3, random_state = 1)"
      ],
      "execution_count": 22,
      "outputs": []
    },
    {
      "cell_type": "code",
      "metadata": {
        "id": "Js2-wqUpsbiO",
        "outputId": "964c32d9-3641-42d7-b057-5198dcacde75",
        "colab": {
          "base_uri": "https://localhost:8080/",
          "height": 374
        }
      },
      "source": [
        "model.fit(X_train,y_train, epochs=10, validation_data=(X_test, y_test) , verbose=2)"
      ],
      "execution_count": 26,
      "outputs": [
        {
          "output_type": "stream",
          "text": [
            "Epoch 1/10\n",
            "1/1 - 0s - loss: 1.0684 - accuracy: 0.5714 - val_loss: 0.7811 - val_accuracy: 1.0000\n",
            "Epoch 2/10\n",
            "1/1 - 0s - loss: 1.2897 - accuracy: 0.7143 - val_loss: 0.7069 - val_accuracy: 1.0000\n",
            "Epoch 3/10\n",
            "1/1 - 0s - loss: 0.3707 - accuracy: 1.0000 - val_loss: 0.6385 - val_accuracy: 1.0000\n",
            "Epoch 4/10\n",
            "1/1 - 0s - loss: 0.3143 - accuracy: 1.0000 - val_loss: 0.5836 - val_accuracy: 1.0000\n",
            "Epoch 5/10\n",
            "1/1 - 0s - loss: 0.5439 - accuracy: 0.8571 - val_loss: 0.5469 - val_accuracy: 1.0000\n",
            "Epoch 6/10\n",
            "1/1 - 0s - loss: 0.3919 - accuracy: 0.8571 - val_loss: 0.5369 - val_accuracy: 1.0000\n",
            "Epoch 7/10\n",
            "1/1 - 0s - loss: 0.0284 - accuracy: 1.0000 - val_loss: 0.5398 - val_accuracy: 1.0000\n",
            "Epoch 8/10\n",
            "1/1 - 0s - loss: 0.0497 - accuracy: 1.0000 - val_loss: 0.5523 - val_accuracy: 1.0000\n",
            "Epoch 9/10\n",
            "1/1 - 0s - loss: 0.2077 - accuracy: 1.0000 - val_loss: 0.5711 - val_accuracy: 1.0000\n",
            "Epoch 10/10\n",
            "1/1 - 0s - loss: 0.1122 - accuracy: 1.0000 - val_loss: 0.5996 - val_accuracy: 1.0000\n"
          ],
          "name": "stdout"
        },
        {
          "output_type": "execute_result",
          "data": {
            "text/plain": [
              "<tensorflow.python.keras.callbacks.History at 0x7fd0337bb7b8>"
            ]
          },
          "metadata": {
            "tags": []
          },
          "execution_count": 26
        }
      ]
    },
    {
      "cell_type": "code",
      "metadata": {
        "id": "8VclOySVtLuF",
        "outputId": "9c902c23-0947-4dc7-be90-b7b224ded9a5",
        "colab": {
          "base_uri": "https://localhost:8080/",
          "height": 68
        }
      },
      "source": [
        "print(\"[INFO] Calculating model accuracy\")\n",
        "scores = model.evaluate(X_test, y_test)\n",
        "print(f\"Test Accuracy: {scores[1]*100}\")"
      ],
      "execution_count": 28,
      "outputs": [
        {
          "output_type": "stream",
          "text": [
            "[INFO] Calculating model accuracy\n",
            "1/1 [==============================] - 0s 1ms/step - loss: 0.5996 - accuracy: 1.0000\n",
            "Test Accuracy: 100.0\n"
          ],
          "name": "stdout"
        }
      ]
    },
    {
      "cell_type": "code",
      "metadata": {
        "id": "SIZ_DhTwuEct"
      },
      "source": [
        "import pickle\n",
        "# save the model to disk\n",
        "print(\"[INFO] Saving model...\")\n",
        "pickle.dump(model,open('cnn_model.pkl', 'wb'))"
      ],
      "execution_count": null,
      "outputs": []
    }
  ]
}