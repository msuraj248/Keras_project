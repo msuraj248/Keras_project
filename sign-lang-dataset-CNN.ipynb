{
  "nbformat": 4,
  "nbformat_minor": 0,
  "metadata": {
    "colab": {
      "name": "Untitled0.ipynb",
      "provenance": [],
      "collapsed_sections": [],
      "mount_file_id": "1AR3cIOk5E8Y1ZXvnk9K6rgrr9ARZc7PE",
      "authorship_tag": "ABX9TyNk2Ikl+2ZIu0t3nFd3mozF",
      "include_colab_link": true
    },
    "kernelspec": {
      "name": "python3",
      "display_name": "Python 3"
    }
  },
  "cells": [
    {
      "cell_type": "markdown",
      "metadata": {
        "id": "view-in-github",
        "colab_type": "text"
      },
      "source": [
        "<a href=\"https://colab.research.google.com/github/msuraj248/Keras_project/blob/master/sign-lang-dataset-CNN.ipynb\" target=\"_parent\"><img src=\"https://colab.research.google.com/assets/colab-badge.svg\" alt=\"Open In Colab\"/></a>"
      ]
    },
    {
      "cell_type": "code",
      "metadata": {
        "id": "yvgQTiV2Lv5Q",
        "colab_type": "code",
        "colab": {}
      },
      "source": [
        "import matplotlib.pyplot as plt\n",
        "import pandas as pd\n",
        "import seaborn as sns\n",
        "from sklearn.model_selection import train_test_split\n",
        "from sklearn.metrics import confusion_matrix, classification_report\n",
        "from sklearn.preprocessing import OneHotEncoder\n",
        "import tensorflow as tf\n",
        "tf.compat.v1.disable_eager_execution()"
      ],
      "execution_count": 95,
      "outputs": []
    },
    {
      "cell_type": "code",
      "metadata": {
        "id": "8C2GaAgrOjjr",
        "colab_type": "code",
        "colab": {}
      },
      "source": [
        "train_data = pd.read_csv('drive/My Drive/sign_language/sign_mnist_train.csv')\n",
        "test_data = pd.read_csv('drive/My Drive/sign_language/sign_mnist_test.csv')"
      ],
      "execution_count": 96,
      "outputs": []
    },
    {
      "cell_type": "code",
      "metadata": {
        "id": "5U0DEuWkPKJI",
        "colab_type": "code",
        "colab": {
          "base_uri": "https://localhost:8080/",
          "height": 34
        },
        "outputId": "aebb211d-2ec0-4395-d06c-6fd4c8d141d7"
      },
      "source": [
        "train_data.shape , test_data.shape"
      ],
      "execution_count": 82,
      "outputs": [
        {
          "output_type": "execute_result",
          "data": {
            "text/plain": [
              "((27455, 785), (7172, 785))"
            ]
          },
          "metadata": {
            "tags": []
          },
          "execution_count": 82
        }
      ]
    },
    {
      "cell_type": "code",
      "metadata": {
        "id": "xAUJ6HItRQ_i",
        "colab_type": "code",
        "colab": {}
      },
      "source": [
        "s = (train_data.iloc[:, 1:]/255).values"
      ],
      "execution_count": null,
      "outputs": []
    },
    {
      "cell_type": "code",
      "metadata": {
        "id": "dhmOrpf_PS4p",
        "colab_type": "code",
        "colab": {
          "base_uri": "https://localhost:8080/",
          "height": 34
        },
        "outputId": "d0510921-a19d-46f2-f098-33c98113a419"
      },
      "source": [
        "train_data.shape, test_data.shape"
      ],
      "execution_count": 13,
      "outputs": [
        {
          "output_type": "execute_result",
          "data": {
            "text/plain": [
              "((27455, 785), (7172, 785))"
            ]
          },
          "metadata": {
            "tags": []
          },
          "execution_count": 13
        }
      ]
    },
    {
      "cell_type": "code",
      "metadata": {
        "id": "iHPRObiuPf9-",
        "colab_type": "code",
        "colab": {
          "base_uri": "https://localhost:8080/",
          "height": 242
        },
        "outputId": "ecdf5cb7-8b1e-4e1e-fe43-8b8f01db6437"
      },
      "source": [
        "plt.figure(figsize=(6,3))\n",
        "sns.countplot(train_data['label'])"
      ],
      "execution_count": 85,
      "outputs": [
        {
          "output_type": "execute_result",
          "data": {
            "text/plain": [
              "<matplotlib.axes._subplots.AxesSubplot at 0x7f91713c3dd8>"
            ]
          },
          "metadata": {
            "tags": []
          },
          "execution_count": 85
        },
        {
          "output_type": "display_data",
          "data": {
            "image/png": "[encoded data removed]",
            "text/plain": [
              "<Figure size 432x216 with 1 Axes>"
            ]
          },
          "metadata": {
            "tags": [],
            "needs_background": "light"
          }
        }
      ]
    },
    {
      "cell_type": "code",
      "metadata": {
        "id": "HYNLM1tBQ0bF",
        "colab_type": "code",
        "colab": {}
      },
      "source": [
        "encoder = OneHotEncoder() # encoding target variable i.e. label\n",
        "\n",
        "x_train = (train_data.iloc[:, 1:]/255).values # normalizing train images to standard 0-1 pixel values.\n",
        "y_train = encoder.fit_transform(train_data['label'].values.reshape(-1,1)).toarray()\n",
        "\n",
        "x_test = (test_data.iloc[:, 1:]/255).values # normalizing test images to standard 0-1 pixel values.\n",
        "y_test = encoder.fit_transform(test_data['label'].values.reshape(-1,1)).toarray()"
      ],
      "execution_count": 97,
      "outputs": []
    },
    {
      "cell_type": "code",
      "metadata": {
        "id": "fapuhTnvQ51M",
        "colab_type": "code",
        "colab": {
          "base_uri": "https://localhost:8080/",
          "height": 34
        },
        "outputId": "4340ffc8-a58d-4aad-aa74-5f32e8206798"
      },
      "source": [
        "x_train.shape , y_train.shape"
      ],
      "execution_count": 24,
      "outputs": [
        {
          "output_type": "execute_result",
          "data": {
            "text/plain": [
              "((27455, 784), (27455, 24))"
            ]
          },
          "metadata": {
            "tags": []
          },
          "execution_count": 24
        }
      ]
    },
    {
      "cell_type": "code",
      "metadata": {
        "id": "TK9jeJONQ-rr",
        "colab_type": "code",
        "colab": {
          "base_uri": "https://localhost:8080/",
          "height": 394
        },
        "outputId": "9e748056-1914-4e14-b436-c01b455b18a0"
      },
      "source": [
        "f, ax = plt.subplots(2,5) \n",
        "f.set_size_inches(10, 10)\n",
        "k = 0\n",
        "for i in range(2):\n",
        "    for j in range(5):\n",
        "        ax[i,j].imshow(x_train[k].reshape(28, 28) , cmap = \"gray\")\n",
        "        k += 1\n",
        "    plt.tight_layout()"
      ],
      "execution_count": 98,
      "outputs": [
        {
          "output_type": "display_data",
          "data": {
            "image/png": "[encoded data removed]",
            "text/plain": [
              "<Figure size 720x720 with 10 Axes>"
            ]
          },
          "metadata": {
            "tags": [],
            "needs_background": "light"
          }
        }
      ]
    },
    {
      "cell_type": "code",
      "metadata": {
        "id": "XJAVM_qhS_Ei",
        "colab_type": "code",
        "colab": {}
      },
      "source": [
        "input_width = 28\n",
        "input_height = 28\n",
        "input_channel = 1\n",
        "input_pixels = 784\n",
        "\n",
        "n_conv1 = 64\n",
        "n_conv2 = 128\n",
        "stride_conv1 = 1\n",
        "stride_conv2 = 1\n",
        "filter1_k = 5\n",
        "filter2_k = 5\n",
        "maxpool1_k = 2\n",
        "maxpool2_k = 2\n",
        "\n",
        "n_hidden = 1024\n",
        "n_out = 24\n",
        "\n",
        "input_size_to_hidden_layer = ((input_width//(maxpool1_k*maxpool2_k)) * (input_height//(maxpool1_k*maxpool2_k)) * n_conv2)\n"
      ],
      "execution_count": 99,
      "outputs": []
    },
    {
      "cell_type": "code",
      "metadata": {
        "id": "vuBdk2G8XXrq",
        "colab_type": "code",
        "colab": {
          "base_uri": "https://localhost:8080/",
          "height": 34
        },
        "outputId": "63b88315-18bf-410c-f1ef-a78f159184b1"
      },
      "source": [
        "input_size_to_hidden_layer"
      ],
      "execution_count": 37,
      "outputs": [
        {
          "output_type": "execute_result",
          "data": {
            "text/plain": [
              "6272"
            ]
          },
          "metadata": {
            "tags": []
          },
          "execution_count": 37
        }
      ]
    },
    {
      "cell_type": "code",
      "metadata": {
        "id": "C8iKJZd0X3o9",
        "colab_type": "code",
        "colab": {}
      },
      "source": [
        "weights = {\n",
        "    'wc1' : tf.Variable(tf.random.normal([filter1_k, filter1_k, input_channel, n_conv1])), # weight corresponding to convolutional layer1.\n",
        "    'wc2' : tf.Variable(tf.random.normal([filter2_k, filter2_k, n_conv1, n_conv2])), # weight corresponding to convolutional layer2.\n",
        "    'wh' : tf.Variable(tf.random.normal([input_size_to_hidden_layer, n_hidden])),  # weight corresponding to hidden layer.\n",
        "    'wo' : tf.Variable(tf.random.normal([n_hidden, n_out])) # weight corresponding to output layer.\n",
        "}\n",
        "\n",
        "biases = {\n",
        "    'bc1' : tf.Variable(tf.random.normal([n_conv1])), # biases corresponding to convolutional layer1.\n",
        "    'bc2' : tf.Variable(tf.random.normal([n_conv2])), # biases corresponding to convolutional layer2.\n",
        "    'bh' : tf.Variable(tf.random.normal([n_hidden])), # biases corresponding to hidden layer.\n",
        "    'bo' : tf.Variable(tf.random.normal([n_out])) # biases corresponding to output layer.\n",
        "}"
      ],
      "execution_count": 100,
      "outputs": []
    },
    {
      "cell_type": "code",
      "metadata": {
        "id": "PjyCmllrYOAE",
        "colab_type": "code",
        "colab": {}
      },
      "source": [
        "# function to get the output from a convolutional layer.\n",
        "def conv(x, weights, bias, stride = 1):\n",
        "    output = tf.nn.conv2d(x, weights, padding='SAME', strides=[1, stride, stride, 1])\n",
        "    output = tf.nn.bias_add(output, bias)\n",
        "    output = tf.nn.relu(output) # applying activation function.\n",
        "    return output"
      ],
      "execution_count": 101,
      "outputs": []
    },
    {
      "cell_type": "code",
      "metadata": {
        "id": "cPNptKjNZT6K",
        "colab_type": "code",
        "colab": {}
      },
      "source": [
        "# function which return output of pooling layer used to decrease image size so that we have to train less weights and biases.\n",
        "def maxpooling(x, k):\n",
        "    return tf.nn.max_pool(x, padding='SAME', ksize=[1, k, k, 1], strides=[1, k, k, 1])\n"
      ],
      "execution_count": 102,
      "outputs": []
    },
    {
      "cell_type": "code",
      "metadata": {
        "id": "FUnFrqr4cKvf",
        "colab_type": "code",
        "colab": {}
      },
      "source": [
        "def forward_propagation(x, weights, biases):\n",
        "    x = tf.reshape(x, shape = [-1, input_width, input_height, input_channel])\n",
        "    \n",
        "    conv1 = conv(x, weights['wc1'], biases['bc1'], stride_conv1)\n",
        "    conv1_pool = maxpooling(conv1, maxpool1_k)\n",
        "    \n",
        "    conv2 = conv(conv1_pool, weights['wc2'], biases['bc2'], stride_conv2)\n",
        "    conv2_pool = maxpooling(conv2, maxpool2_k)\n",
        "    \n",
        "    hidden_layer_input = tf.reshape(conv2_pool, shape = [-1, input_size_to_hidden_layer])\n",
        "    hidden_layer_output = tf.nn.relu(tf.add(tf.matmul(hidden_layer_input, weights['wh']), biases['bh']))\n",
        "    \n",
        "    output = tf.add(tf.matmul(hidden_layer_output, weights['wo']), biases['bo'])\n",
        "    return output"
      ],
      "execution_count": 103,
      "outputs": []
    },
    {
      "cell_type": "code",
      "metadata": {
        "id": "cO_j_09VcSZu",
        "colab_type": "code",
        "colab": {}
      },
      "source": [
        "X = tf.compat.v1.placeholder(tf.float32, [ None, input_pixels], name='x')\n",
        "Y = tf.compat.v1.placeholder(tf.int32, [ None, n_out], name='y')\n",
        "pred = forward_propagation(X, weights, biases)"
      ],
      "execution_count": 104,
      "outputs": []
    },
    {
      "cell_type": "code",
      "metadata": {
        "id": "5GG15XU9d0Cr",
        "colab_type": "code",
        "colab": {}
      },
      "source": [
        "cost = tf.reduce_mean(tf.compat.v1.nn.softmax_cross_entropy_with_logits_v2(logits=pred, labels=Y))\n",
        "\n",
        "# using adam optimizer on the cost.\n",
        "optimizer = tf.compat.v1.train.AdamOptimizer(learning_rate=0.011)\n",
        "optimize = optimizer.minimize(cost)"
      ],
      "execution_count": 105,
      "outputs": []
    },
    {
      "cell_type": "code",
      "metadata": {
        "id": "4LA3i5wDePWQ",
        "colab_type": "code",
        "colab": {}
      },
      "source": [
        "# creating a new session of tensorflow.\n",
        "sess = tf.compat.v1.Session()\n",
        "sess.run(tf.compat.v1.global_variables_initializer())"
      ],
      "execution_count": 106,
      "outputs": []
    },
    {
      "cell_type": "code",
      "metadata": {
        "id": "RARR-okden0X",
        "colab_type": "code",
        "colab": {
          "base_uri": "https://localhost:8080/",
          "height": 187
        },
        "outputId": "4c0bd14a-4830-4fe7-cde7-20e13f57e71b"
      },
      "source": [
        "batch_size=64\n",
        "a = 0\n",
        "for i in range(10):\n",
        "    num_batches = int(len(x_train)/batch_size)\n",
        "    total_cost = 0\n",
        "    for j in range(num_batches):\n",
        "        batch_x = x_train[a: a+batch_size]\n",
        "        batch_y = y_train[a: a+batch_size]\n",
        "        c, _ = sess.run([cost, optimize], feed_dict={X:batch_x, Y:batch_y})\n",
        "        total_cost += c\n",
        "        a += batch_size\n",
        "    a = 0\n",
        "    print('total cost at',i+1,'iteration:',total_cost)"
      ],
      "execution_count": 56,
      "outputs": [
        {
          "output_type": "stream",
          "text": [
            "total cost at 1 iteration: 3773826.174682617\n",
            "total cost at 2 iteration: 11864.9140817374\n",
            "total cost at 3 iteration: 5024.216990592595\n",
            "total cost at 4 iteration: 4756.72171650044\n",
            "total cost at 5 iteration: 4220.925852895643\n",
            "total cost at 6 iteration: 4270.919076547056\n",
            "total cost at 7 iteration: 6194.838629635357\n",
            "total cost at 8 iteration: 5768.52038297852\n",
            "total cost at 9 iteration: 2001.5246364746176\n",
            "total cost at 10 iteration: 4404.354074074525\n"
          ],
          "name": "stdout"
        }
      ]
    },
    {
      "cell_type": "code",
      "metadata": {
        "id": "ZKtYpEgbplq7",
        "colab_type": "code",
        "colab": {
          "base_uri": "https://localhost:8080/",
          "height": 34
        },
        "outputId": "abbc1255-168e-4e2d-dbe3-096a50321683"
      },
      "source": [
        "# testing model with training data.\n",
        "predictions = tf.argmax(pred, axis=1)\n",
        "correct_labels = tf.argmax(Y, axis=1)\n",
        "accuracy = tf.equal(predictions, correct_labels)\n",
        "predictions, labels, accuracy = sess.run([predictions, correct_labels, accuracy], feed_dict={X:x_train, Y:y_train})\n",
        "accuracy.sum()/len(x_train)"
      ],
      "execution_count": 76,
      "outputs": [
        {
          "output_type": "execute_result",
          "data": {
            "text/plain": [
              "0.9584410854124932"
            ]
          },
          "metadata": {
            "tags": []
          },
          "execution_count": 76
        }
      ]
    },
    {
      "cell_type": "code",
      "metadata": {
        "id": "YWj4HlhCeqfT",
        "colab_type": "code",
        "colab": {}
      },
      "source": [
        "# testing model with testing data.\n",
        "predictions = tf.argmax(pred, axis=1)\n",
        "correct_labels = tf.argmax(Y, axis=1)\n",
        "accuracy = tf.equal(predictions, correct_labels)\n",
        "predictions, labels, accuracy = sess.run([predictions, correct_labels, accuracy], feed_dict={X:x_test, Y:y_test})\n",
        "accuracy.sum()/len(x_test)"
      ],
      "execution_count": null,
      "outputs": []
    }
  ]
}