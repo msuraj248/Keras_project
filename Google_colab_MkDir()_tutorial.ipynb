{
  "nbformat": 4,
  "nbformat_minor": 0,
  "metadata": {
    "colab": {
      "name": "Keras_tutorial.ipynb",
      "provenance": [],
      "authorship_tag": "ABX9TyMickmgT58ai4I3tBGN3p18",
      "include_colab_link": true
    },
    "kernelspec": {
      "name": "python3",
      "display_name": "Python 3"
    }
  },
  "cells": [
    {
      "cell_type": "markdown",
      "metadata": {
        "id": "view-in-github",
        "colab_type": "text"
      },
      "source": [
        "<a href=\"https://colab.research.google.com/github/msuraj248/Keras_project/blob/master/Google_colab_MkDir()_tutorial.ipynb\" target=\"_parent\"><img src=\"https://colab.research.google.com/assets/colab-badge.svg\" alt=\"Open In Colab\"/></a>"
      ]
    },
    {
      "cell_type": "code",
      "metadata": {
        "id": "Bts-kuURp5Hq",
        "colab_type": "code",
        "colab": {}
      },
      "source": [
        "import tensorflow as tf\n",
        "tf.compat.v1.disable_eager_execution()\n",
        "\n",
        "#Create a new directory (a folder) in your Drive\n",
        "tf.compat.v1.gfile.MkDir('base_dir')"
      ],
      "execution_count": 3,
      "outputs": []
    },
    {
      "cell_type": "code",
      "metadata": {
        "id": "aoJrtTVcuVQw",
        "colab_type": "code",
        "colab": {}
      },
      "source": [
        "string = ('base_dir', 'train_dir')\n",
        "s = ''\n",
        "train_dir = s.join(string)"
      ],
      "execution_count": 4,
      "outputs": []
    },
    {
      "cell_type": "code",
      "metadata": {
        "id": "SxJkhabEubsW",
        "colab_type": "code",
        "colab": {}
      },
      "source": [
        "#Create the second directory\n",
        "tf.compat.v1.gfile.MkDir(train_dir)"
      ],
      "execution_count": 6,
      "outputs": []
    }
  ]
}