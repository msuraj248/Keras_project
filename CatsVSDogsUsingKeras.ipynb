{
  "nbformat": 4,
  "nbformat_minor": 0,
  "metadata": {
    "colab": {
      "name": "Untitled0.ipynb",
      "provenance": [],
      "collapsed_sections": [],
      "mount_file_id": "1XzS2XWmCKTroflR4P1s_Mfu5z8KD09SH",
      "authorship_tag": "ABX9TyPmDNwp4gH98AdzOUpw2z/u",
      "include_colab_link": true
    },
    "kernelspec": {
      "name": "python3",
      "display_name": "Python 3"
    }
  },
  "cells": [
    {
      "cell_type": "markdown",
      "metadata": {
        "id": "view-in-github",
        "colab_type": "text"
      },
      "source": [
        "<a href=\"https://colab.research.google.com/github/msuraj248/Keras_project/blob/master/CatsVSDogsUsingKeras.ipynb\" target=\"_parent\"><img src=\"https://colab.research.google.com/assets/colab-badge.svg\" alt=\"Open In Colab\"/></a>"
      ]
    },
    {
      "cell_type": "code",
      "metadata": {
        "id": "cWstmZSZTIW-",
        "colab_type": "code",
        "colab": {}
      },
      "source": [
        "import tensorflow as tf\n",
        "from tensorflow import  keras\n",
        "from tensorflow.keras.layers import Dense, Activation, Flatten\n",
        "from keras.layers.convolutional import *\n",
        "from keras.layers.pooling import *\n",
        "from tensorflow.keras.metrics import categorical_crossentropy\n",
        "from tensorflow.keras.optimizers import Adam\n",
        "from tensorflow.keras.models import Sequential\n",
        "from tensorflow.keras.preprocessing.image import ImageDataGenerator\n",
        "from sklearn.metrics import confusion_matrix\n",
        "import matplotlib.pyplot as plt\n",
        "import warnings\n",
        "warnings.simplefilter(action='ignore',category=FutureWarning)\n",
        "tf.compat.v1.disable_eager_execution()"
      ],
      "execution_count": 24,
      "outputs": []
    },
    {
      "cell_type": "code",
      "metadata": {
        "id": "MsvZnaTd9wSZ",
        "colab_type": "code",
        "colab": {}
      },
      "source": [
        "os.chdir('D:/documents/CNN/train')\n",
        "if os.path.isdir('train/dog') is False:\n",
        "    os.makedirs('train/dog')\n",
        "    os.makedirs('train/cat')\n",
        "    os.makedirs('valid/dog')\n",
        "    os.makedirs('valid/cat')\n",
        "    os.makedirs('test/dog')\n",
        "    os.makedirs('test/cat')\n",
        "    \n",
        "    for c in random.sample(glob.glob('cat*'),500):\n",
        "        shutil.move(c, 'train/cat')\n",
        "    for c in random.sample(glob.glob('dog*'),500):\n",
        "        shutil.move(c, 'train/dog')\n",
        "    for c in random.sample(glob.glob('cat*'),100):\n",
        "        shutil.move(c, 'valid/cat')\n",
        "    for c in random.sample(glob.glob('dog*'),100):\n",
        "        shutil.move(c, 'valid/dog')\n",
        "    for c in random.sample(glob.glob('cat*'),50):\n",
        "        shutil.move(c, 'test/cat')\n",
        "    for c in random.sample(glob.glob('dog*'),50):\n",
        "        shutil.move(c, 'test/dog')"
      ],
      "execution_count": null,
      "outputs": []
    },
    {
      "cell_type": "code",
      "metadata": {
        "id": "JN6PO5vqSILU",
        "colab_type": "code",
        "colab": {}
      },
      "source": [
        "train_path = 'drive/My Drive/CNN/train'\n",
        "valid_path = 'drive/My Drive/CNN/valid'\n",
        "test_path = 'drive/My Drive/CNN/test'"
      ],
      "execution_count": 2,
      "outputs": []
    },
    {
      "cell_type": "code",
      "metadata": {
        "id": "Fx3j4hBmS_Rx",
        "colab_type": "code",
        "colab": {
          "base_uri": "https://localhost:8080/",
          "height": 68
        },
        "outputId": "774fe7a0-266b-42b5-8624-c79f428c3ef1"
      },
      "source": [
        "train_batches = ImageDataGenerator(preprocessing_function= tf.keras.applications.vgg16.preprocess_input)\\\n",
        "                  .flow_from_directory(directory= train_path, target_size = (224,224), classes = ['cat', 'dog'], batch_size=10)\n",
        "valid_batches = ImageDataGenerator(preprocessing_function= tf.keras.applications.vgg16.preprocess_input)\\\n",
        "                  .flow_from_directory(directory= valid_path, target_size = (224,224), classes = ['cat', 'dog'], batch_size=10)\n",
        "test_batches = ImageDataGenerator(preprocessing_function= tf.keras.applications.vgg16.preprocess_input)\\\n",
        "                  .flow_from_directory(directory= test_path, target_size = (224,224), classes = ['cat', 'dog'], batch_size=10, shuffle = False)"
      ],
      "execution_count": 20,
      "outputs": [
        {
          "output_type": "stream",
          "text": [
            "Found 1000 images belonging to 2 classes.\n",
            "Found 200 images belonging to 2 classes.\n",
            "Found 100 images belonging to 2 classes.\n"
          ],
          "name": "stdout"
        }
      ]
    },
    {
      "cell_type": "code",
      "metadata": {
        "id": "HcqOOBvTnwRa",
        "colab_type": "code",
        "colab": {}
      },
      "source": [
        "imgs, lables = next(train_batches)"
      ],
      "execution_count": 21,
      "outputs": []
    },
    {
      "cell_type": "code",
      "metadata": {
        "id": "M2xlybjxmCWX",
        "colab_type": "code",
        "colab": {}
      },
      "source": [
        "def plot_image(images):\n",
        "  fig, axes = plt.subplots(1,10, figsize= (20,20))\n",
        "  axes = axes.flatten()\n",
        "  for img, ax in zip(images, axes):\n",
        "    ax.imshow(img)\n",
        "    ax.axis('off')\n",
        "  plt.tight_layout()\n",
        "  plt.show()"
      ],
      "execution_count": 22,
      "outputs": []
    },
    {
      "cell_type": "code",
      "metadata": {
        "id": "lzy7YQnBnd6b",
        "colab_type": "code",
        "colab": {}
      },
      "source": [
        "plot_image(imgs)\n",
        "print(lables)"
      ],
      "execution_count": null,
      "outputs": []
    },
    {
      "cell_type": "code",
      "metadata": {
        "id": "CBDnIq8MqTYn",
        "colab_type": "code",
        "colab": {}
      },
      "source": [
        "model = Sequential([\n",
        "          Conv2D(filters = 32, kernel_size=(3,3), activation='relu',input_shape =(224,224,3), padding = 'SAME'),\n",
        "          MaxPool2D(pool_size=(2,2), strides=2),\n",
        "          Conv2D(filters = 64, kernel_size=(3,3),activation='relu', padding='SAME'),\n",
        "          MaxPool2D(pool_size=(2,2), strides=2),\n",
        "          Flatten(),\n",
        "          Dense(units = 2, activation='softmax')\n",
        "])"
      ],
      "execution_count": 30,
      "outputs": []
    },
    {
      "cell_type": "code",
      "metadata": {
        "id": "Ss0uFbeRtT-i",
        "colab_type": "code",
        "colab": {}
      },
      "source": [
        "model.summary()"
      ],
      "execution_count": null,
      "outputs": []
    },
    {
      "cell_type": "code",
      "metadata": {
        "id": "Lfm7MsyOteDm",
        "colab_type": "code",
        "colab": {
          "base_uri": "https://localhost:8080/",
          "height": 374
        },
        "outputId": "a6633956-d9d7-446e-fdc9-e8679839b9bb"
      },
      "source": [
        "model.compile(optimizer=Adam(learning_rate=0.0001),loss = 'categorical_crossentropy', metrics=['accuracy'])\n",
        "model.fit(x = train_batches, epochs=10, validation_data= valid_batches , verbose=2)"
      ],
      "execution_count": 37,
      "outputs": [
        {
          "output_type": "stream",
          "text": [
            "Epoch 1/10\n",
            "100/100 - 71s - loss: 8.0590 - accuracy: 0.5000 - val_loss: 8.0590 - val_accuracy: 0.5000\n",
            "Epoch 2/10\n",
            "100/100 - 71s - loss: 8.0590 - accuracy: 0.5000 - val_loss: 8.0590 - val_accuracy: 0.5000\n",
            "Epoch 3/10\n",
            "100/100 - 71s - loss: 8.0590 - accuracy: 0.5000 - val_loss: 8.0590 - val_accuracy: 0.5000\n",
            "Epoch 4/10\n",
            "100/100 - 71s - loss: 8.0590 - accuracy: 0.5000 - val_loss: 8.0590 - val_accuracy: 0.5000\n",
            "Epoch 5/10\n",
            "100/100 - 75s - loss: 8.0590 - accuracy: 0.5000 - val_loss: 8.0590 - val_accuracy: 0.5000\n",
            "Epoch 6/10\n",
            "100/100 - 71s - loss: 8.0590 - accuracy: 0.5000 - val_loss: 8.0590 - val_accuracy: 0.5000\n",
            "Epoch 7/10\n",
            "100/100 - 71s - loss: 8.0590 - accuracy: 0.5000 - val_loss: 8.0590 - val_accuracy: 0.5000\n",
            "Epoch 8/10\n",
            "100/100 - 71s - loss: 8.0590 - accuracy: 0.5000 - val_loss: 8.0590 - val_accuracy: 0.5000\n",
            "Epoch 9/10\n",
            "100/100 - 71s - loss: 8.0590 - accuracy: 0.5000 - val_loss: 8.0590 - val_accuracy: 0.5000\n",
            "Epoch 10/10\n",
            "100/100 - 71s - loss: 8.0590 - accuracy: 0.5000 - val_loss: 8.0590 - val_accuracy: 0.5000\n"
          ],
          "name": "stdout"
        },
        {
          "output_type": "execute_result",
          "data": {
            "text/plain": [
              "<tensorflow.python.keras.callbacks.History at 0x7eff8e15dda0>"
            ]
          },
          "metadata": {
            "tags": []
          },
          "execution_count": 37
        }
      ]
    },
    {
      "cell_type": "code",
      "metadata": {
        "id": "c40vke9855fy",
        "colab_type": "code",
        "colab": {}
      },
      "source": [
        "test_img, test_lables = next(test_batches)\n",
        "plot_image(test_img)\n",
        "print(test_lables)"
      ],
      "execution_count": null,
      "outputs": []
    },
    {
      "cell_type": "code",
      "metadata": {
        "id": "e_63XwSY6O_c",
        "colab_type": "code",
        "colab": {}
      },
      "source": [
        "test_batches.classes"
      ],
      "execution_count": null,
      "outputs": []
    },
    {
      "cell_type": "code",
      "metadata": {
        "id": "RscGZN7W6ZYE",
        "colab_type": "code",
        "colab": {}
      },
      "source": [
        "predictions = model.predict(x = test_batches, verbose=0)"
      ],
      "execution_count": 42,
      "outputs": []
    },
    {
      "cell_type": "code",
      "metadata": {
        "id": "LGLeiG3m6lSs",
        "colab_type": "code",
        "colab": {}
      },
      "source": [
        "import numpy as np\n",
        "np.round(predictions)"
      ],
      "execution_count": null,
      "outputs": []
    },
    {
      "cell_type": "code",
      "metadata": {
        "id": "cjmoSi6O62zv",
        "colab_type": "code",
        "colab": {}
      },
      "source": [
        "cm = confusion_matrix(y_true=test_batches.classes ,y_pred=np.argmax(predictions, -1),)"
      ],
      "execution_count": 45,
      "outputs": []
    },
    {
      "cell_type": "code",
      "metadata": {
        "id": "2gOXivHv7egK",
        "colab_type": "code",
        "colab": {}
      },
      "source": [
        "def plot_confusion_matrix(cm, classes,\n",
        "                          normalize=False,\n",
        "                          title='Confusion matrix',\n",
        "                          cmap=plt.cm.Blues):\n",
        "    \"\"\"\n",
        "    This function prints and plots the confusion matrix.\n",
        "    Normalization can be applied by setting `normalize=True`.\n",
        "    \"\"\"\n",
        "    plt.imshow(cm, interpolation='nearest', cmap=cmap)\n",
        "    plt.title(title)\n",
        "    plt.colorbar()\n",
        "    tick_marks = np.arange(len(classes))\n",
        "    plt.xticks(tick_marks, classes, rotation=45)\n",
        "    plt.yticks(tick_marks, classes)\n",
        "\n",
        "    if normalize:\n",
        "        cm = cm.astype('float') / cm.sum(axis=1)[:, np.newaxis]\n",
        "        print(\"Normalized confusion matrix\")\n",
        "    else:\n",
        "        print('Confusion matrix, without normalization')\n",
        "\n",
        "    print(cm)\n",
        "\n",
        "    thresh = cm.max() / 2.\n",
        "    for i, j in itertools.product(range(cm.shape[0]), range(cm.shape[1])):\n",
        "        plt.text(j, i, cm[i, j],\n",
        "                 horizontalalignment=\"center\",\n",
        "                 color=\"white\" if cm[i, j] > thresh else \"black\")\n",
        "\n",
        "    plt.tight_layout()\n",
        "    plt.ylabel('True label')\n",
        "    plt.xlabel('Predicted label')\n"
      ],
      "execution_count": 46,
      "outputs": []
    },
    {
      "cell_type": "code",
      "metadata": {
        "id": "m4t9RxGM7jza",
        "colab_type": "code",
        "colab": {}
      },
      "source": [
        "import itertools\n",
        "cm_plot_lables= ['cats', 'dogs']\n",
        "plot_confusion_matrix(cm=cm, classes = cm_plot_lables, title = 'Confusion_matrics')"
      ],
      "execution_count": null,
      "outputs": []
    }
  ]
}