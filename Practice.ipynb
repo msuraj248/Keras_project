{
  "nbformat": 4,
  "nbformat_minor": 0,
  "metadata": {
    "colab": {
      "name": "Practice.ipynb",
      "provenance": [],
      "collapsed_sections": [],
      "authorship_tag": "ABX9TyPhWV6wrm6Q3Nis7VqoSq8F",
      "include_colab_link": true
    },
    "kernelspec": {
      "name": "python3",
      "display_name": "Python 3"
    }
  },
  "cells": [
    {
      "cell_type": "markdown",
      "metadata": {
        "id": "view-in-github",
        "colab_type": "text"
      },
      "source": [
        "<a href=\"https://colab.research.google.com/github/msuraj248/Keras_project/blob/master/Practice.ipynb\" target=\"_parent\"><img src=\"https://colab.research.google.com/assets/colab-badge.svg\" alt=\"Open In Colab\"/></a>"
      ]
    },
    {
      "cell_type": "code",
      "metadata": {
        "id": "PRI9oJUaT-m9"
      },
      "source": [
        "# D means deposit while W means withdrawal.Suppose the following input is supplied to the program:\r\n",
        "# D 300\r\n",
        "# D 300\r\n",
        "# W 200\r\n",
        "# D 100\r\n",
        "# Then, the output should be:\r\n",
        "# 500\r\n",
        "\r\n",
        "account = 0\r\n",
        "while True:\r\n",
        "  select = input('Enter D/W/B/Q for Deposite/Withdral/Balance/Quit').lower()\r\n",
        "  if select == \"d\":\r\n",
        "    deposite = int(input('Enter Amount'))\r\n",
        "    account = account + deposite\r\n",
        "    print(f'Balance in account is {account}')\r\n",
        "\r\n",
        "  elif select == \"w\":\r\n",
        "    withdral = int(input('Enter Amount'))\r\n",
        "    account = account - withdral\r\n",
        "    if account < 0:\r\n",
        "      print('Balance is Low')\r\n",
        "      print(f'your balance is {account}')\r\n",
        "    else:\r\n",
        "      print(f'Balance in account is {account}')\r\n",
        "\r\n",
        "  elif select == \"b\":\r\n",
        "    print(f'your balance is {account}')\r\n",
        "\r\n",
        "  else:\r\n",
        "    quit()\r\n",
        "    break"
      ],
      "execution_count": null,
      "outputs": []
    },
    {
      "cell_type": "code",
      "metadata": {
        "colab": {
          "base_uri": "https://localhost:8080/"
        },
        "id": "Jk7ii--9fnL3",
        "outputId": "03937279-30d1-41d3-9154-e95e0e1851c0"
      },
      "source": [
        "# 3.You are required to write a program to sort the (name, age, height) tuples by ascending order where name is string, age and height are numbers. The tuples are input by console. The sort criteria is:\r\n",
        "# 1: Sort based on name;\r\n",
        "# 2: Then sort based on age;\r\n",
        "# 3: Then sort by score.\r\n",
        "# The priority is that name > age > score.\r\n",
        "# If the following tuples are given as input to the program:\r\n",
        "# Tom,19,80\r\n",
        "# John,20,90\r\n",
        "# Jony,17,91\r\n",
        "# Jony,17,93\r\n",
        "# Json,21,85\r\n",
        "# Then, the output of the program should be:\r\n",
        "# [('John', '20', '90'), ('Jony', '17', '91'), ('Jony', '17', '93'), ('Json', '21', '85'), ('Tom', '19', '80')]\r\n",
        "\r\n",
        "\r\n",
        "listOfTuples = []\r\n",
        "\r\n",
        "while True:\r\n",
        "  enter = input().split(',')\r\n",
        "  listOfTuples.append(tuple(enter))\r\n",
        "  if len(listOfTuples) > 2:\r\n",
        "    break\r\n",
        "  \r\n",
        "print(sorted(listOfTuples))\r\n"
      ],
      "execution_count": 10,
      "outputs": [
        {
          "output_type": "stream",
          "text": [
            "suraj,12,13\n",
            "raj,14,25\n",
            "roam,11,44\n",
            "[('raj', '14', '25'), ('roam', '11', '44'), ('suraj', '12', '13')]\n"
          ],
          "name": "stdout"
        }
      ]
    },
    {
      "cell_type": "code",
      "metadata": {
        "colab": {
          "base_uri": "https://localhost:8080/"
        },
        "id": "o-YWUY2CmgNh",
        "outputId": "b7409f53-3b62-4594-a401-e57d00e28df8"
      },
      "source": [
        "# Define a function that can receive two integral numbers in string form and compute their sum and then print it in console.\r\n",
        "\r\n",
        "def sum(num1, num2):\r\n",
        "  sum = int(num1) + int(num2)\r\n",
        "  return sum\r\n",
        "\r\n",
        "sum('10','15')\r\n"
      ],
      "execution_count": 11,
      "outputs": [
        {
          "output_type": "execute_result",
          "data": {
            "text/plain": [
              "25"
            ]
          },
          "metadata": {
            "tags": []
          },
          "execution_count": 11
        }
      ]
    },
    {
      "cell_type": "code",
      "metadata": {
        "colab": {
          "base_uri": "https://localhost:8080/",
          "height": 35
        },
        "id": "XX6Uyp6HncTX",
        "outputId": "a6a026cf-e52a-465a-b8f9-f1eacdb5e352"
      },
      "source": [
        "# Define a function that can convert a integer into a string and print it in console.\r\n",
        "\r\n",
        "def int_to_str(num):\r\n",
        "  char = str(num)\r\n",
        "  return char\r\n",
        "\r\n",
        "int_to_str(12)\r\n"
      ],
      "execution_count": 12,
      "outputs": [
        {
          "output_type": "execute_result",
          "data": {
            "application/vnd.google.colaboratory.intrinsic+json": {
              "type": "string"
            },
            "text/plain": [
              "'12'"
            ]
          },
          "metadata": {
            "tags": []
          },
          "execution_count": 12
        }
      ]
    },
    {
      "cell_type": "code",
      "metadata": {
        "colab": {
          "base_uri": "https://localhost:8080/"
        },
        "id": "9Vz-OwApoFmv",
        "outputId": "26655787-8a82-4335-e030-f34f1a14790a"
      },
      "source": [
        "# 6.Define a function that can accept two strings as input and print the string with maximum length in console. \r\n",
        "# If two strings have the same length, then the function should print al l strings line by line.\r\n",
        "\r\n",
        "def strings(s1,s2):\r\n",
        "  if len(s1) > len(s2):\r\n",
        "    return len(s1)\r\n",
        "\r\n",
        "  elif len(s2) > len(s1):\r\n",
        "    return len(s2)\r\n",
        "\r\n",
        "  elif len(s1) == len(s2):\r\n",
        "    print(s1,\"\")\r\n",
        "    print(s2,\"\")\r\n",
        "\r\n",
        "  # else:\r\n",
        "  #   return s1 and s2\r\n",
        "\r\n",
        "\r\n",
        "strings('Hello there, where r you','iam here, where are you.')"
      ],
      "execution_count": 35,
      "outputs": [
        {
          "output_type": "stream",
          "text": [
            "Hello there, where r you \n",
            "iam here, where are you. \n"
          ],
          "name": "stdout"
        }
      ]
    },
    {
      "cell_type": "code",
      "metadata": {
        "colab": {
          "base_uri": "https://localhost:8080/",
          "height": 52
        },
        "id": "NdZP0czpsP0K",
        "outputId": "32af2f63-de89-449a-9be9-9be054fe9dad"
      },
      "source": [
        "# 7.Define a function that can accept an integer number as input and print the \"It is an even number\" if the number is even, otherwise print \"It is an odd number\".\r\n",
        "\r\n",
        "def even_odd(num):\r\n",
        "  if num % 2 == 0:\r\n",
        "    return 'Its an even number'\r\n",
        "\r\n",
        "  else:\r\n",
        "    return 'Its an Odd number'\r\n",
        "\r\n",
        "enter = int(input('Enter number'))\r\n",
        "even_odd(enter)"
      ],
      "execution_count": 33,
      "outputs": [
        {
          "output_type": "stream",
          "text": [
            "Enter number20\n"
          ],
          "name": "stdout"
        },
        {
          "output_type": "execute_result",
          "data": {
            "application/vnd.google.colaboratory.intrinsic+json": {
              "type": "string"
            },
            "text/plain": [
              "'Its an even number'"
            ]
          },
          "metadata": {
            "tags": []
          },
          "execution_count": 33
        }
      ]
    },
    {
      "cell_type": "code",
      "metadata": {
        "id": "pjRUqyNYtYEI"
      },
      "source": [
        "# 8.Define a function which can print a dictionary where the keys are numbers between 1 and 20 (both included) and the values are square of keys.\r\n",
        "\r\n",
        "def sqre(kye):\r\n",
        "  values = kye**2\r\n",
        "  return dict(key=kye, value=values)"
      ],
      "execution_count": 44,
      "outputs": []
    },
    {
      "cell_type": "code",
      "metadata": {
        "colab": {
          "base_uri": "https://localhost:8080/"
        },
        "id": "3eI9WYnCwVAD",
        "outputId": "b5534358-0617-4288-a43e-cf0c7c0fd5c9"
      },
      "source": [
        "for i in range(0,20):\r\n",
        "  i = sqre(kye)"
      ],
      "execution_count": 46,
      "outputs": [
        {
          "output_type": "execute_result",
          "data": {
            "text/plain": [
              "{'key': 20, 'value': 400}"
            ]
          },
          "metadata": {
            "tags": []
          },
          "execution_count": 46
        }
      ]
    },
    {
      "cell_type": "code",
      "metadata": {
        "id": "B3vfxvxHxNk-"
      },
      "source": [
        ""
      ],
      "execution_count": null,
      "outputs": []
    }
  ]
}