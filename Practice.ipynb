{
  "nbformat": 4,
  "nbformat_minor": 0,
  "metadata": {
    "colab": {
      "name": "Practice.ipynb",
      "provenance": [],
      "collapsed_sections": [],
      "authorship_tag": "ABX9TyOtHuVgbQSdlu1xY9WzCYCO",
      "include_colab_link": true
    },
    "kernelspec": {
      "name": "python3",
      "display_name": "Python 3"
    }
  },
  "cells": [
    {
      "cell_type": "markdown",
      "metadata": {
        "id": "view-in-github",
        "colab_type": "text"
      },
      "source": [
        "<a href=\"https://colab.research.google.com/github/msuraj248/Keras_project/blob/master/Practice.ipynb\" target=\"_parent\"><img src=\"https://colab.research.google.com/assets/colab-badge.svg\" alt=\"Open In Colab\"/></a>"
      ]
    },
    {
      "cell_type": "code",
      "metadata": {
        "id": "PRI9oJUaT-m9"
      },
      "source": [
        "# D means deposit while W means withdrawal.Suppose the following input is supplied to the program:\r\n",
        "# D 300\r\n",
        "# D 300\r\n",
        "# W 200\r\n",
        "# D 100\r\n",
        "# Then, the output should be:\r\n",
        "# 500\r\n",
        "\r\n",
        "account = 0\r\n",
        "while True:\r\n",
        "  select = input('Enter D/W/B/Q for Deposite/Withdral/Balance/Quit').lower()\r\n",
        "  if select == \"d\":\r\n",
        "    deposite = int(input('Enter Amount'))\r\n",
        "    account = account + deposite\r\n",
        "    print(f'Balance in account is {account}')\r\n",
        "\r\n",
        "  elif select == \"w\":\r\n",
        "    withdral = int(input('Enter Amount'))\r\n",
        "    account = account - withdral\r\n",
        "    if account < 0:\r\n",
        "      print('Balance is Low')\r\n",
        "      print(f'your balance is {account}')\r\n",
        "    else:\r\n",
        "      print(f'Balance in account is {account}')\r\n",
        "\r\n",
        "  elif select == \"b\":\r\n",
        "    print(f'your balance is {account}')\r\n",
        "\r\n",
        "  else:\r\n",
        "    quit()\r\n",
        "    break"
      ],
      "execution_count": null,
      "outputs": []
    },
    {
      "cell_type": "code",
      "metadata": {
        "colab": {
          "base_uri": "https://localhost:8080/"
        },
        "id": "Jk7ii--9fnL3",
        "outputId": "03937279-30d1-41d3-9154-e95e0e1851c0"
      },
      "source": [
        "# 3.You are required to write a program to sort the (name, age, height) tuples by ascending order where name is string, age and height are numbers. The tuples are input by console. The sort criteria is:\r\n",
        "# 1: Sort based on name;\r\n",
        "# 2: Then sort based on age;\r\n",
        "# 3: Then sort by score.\r\n",
        "# The priority is that name > age > score.\r\n",
        "# If the following tuples are given as input to the program:\r\n",
        "# Tom,19,80\r\n",
        "# John,20,90\r\n",
        "# Jony,17,91\r\n",
        "# Jony,17,93\r\n",
        "# Json,21,85\r\n",
        "# Then, the output of the program should be:\r\n",
        "# [('John', '20', '90'), ('Jony', '17', '91'), ('Jony', '17', '93'), ('Json', '21', '85'), ('Tom', '19', '80')]\r\n",
        "\r\n",
        "\r\n",
        "listOfTuples = []\r\n",
        "\r\n",
        "while True:\r\n",
        "  enter = input().split(',')\r\n",
        "  listOfTuples.append(tuple(enter))\r\n",
        "  if len(listOfTuples) > 2:\r\n",
        "    break\r\n",
        "  \r\n",
        "print(sorted(listOfTuples))\r\n"
      ],
      "execution_count": 10,
      "outputs": [
        {
          "output_type": "stream",
          "text": [
            "suraj,12,13\n",
            "raj,14,25\n",
            "roam,11,44\n",
            "[('raj', '14', '25'), ('roam', '11', '44'), ('suraj', '12', '13')]\n"
          ],
          "name": "stdout"
        }
      ]
    }
  ]
}